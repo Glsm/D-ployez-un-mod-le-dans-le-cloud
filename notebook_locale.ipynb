{
 "cells": [
  {
   "cell_type": "markdown",
   "id": "856781cc",
   "metadata": {},
   "source": [
    "#                                    Déployez un modèle dans le cloud"
   ]
  },
  {
   "cell_type": "markdown",
   "id": "3e5b04a3",
   "metadata": {},
   "source": [
    "La très jeune start-up de l'AgriTech, nommée \"Fruits!\",\n",
    "cherche à proposer des solutions innovantes pour la récolte des fruits.\n",
    "\n",
    "La volonté de l’entreprise est de préserver la biodiversité des fruits\n",
    "en permettant des traitements spécifiques pour chaque espèce de fruits\n",
    "en développant des robots cueilleurs intelligents.\n",
    "\n",
    "La start-up souhaite dans un premier temps se faire connaître en mettant\n",
    "à disposition du grand public une application mobile qui permettrait aux\n",
    "utilisateurs de prendre en photo un fruit et d'obtenir des informations sur ce fruit.\n",
    "\n",
    "Pour la start-up, cette application permettrait de sensibiliser le grand public\n",
    "à la biodiversité des fruits et de mettre en place une première version du moteur\n",
    "de classification des images de fruits.\n",
    "\n",
    "De plus, le développement de l’application mobile permettra de construire\n",
    "une première version de l'architecture Big Data nécessaire."
   ]
  },
  {
   "cell_type": "markdown",
   "id": "39bf5889",
   "metadata": {},
   "source": [
    "------------------------------------------------------------------------------------------------------------------------------\n",
    "### Objectifs\n",
    "\n",
    "\n",
    " - Développer une première chaîne de traitement des données qui\n",
    "Il n’est pas nécessaire d’entraîner un modèle pour le moment.\n",
    "comprendra le preprocessing et une étape de réduction de dimension.\n",
    " - Tenir compte du fait que le volume de données va augmentertrès rapidement après la livraison de ce projet, ce qui implique de:\n",
    "     - Déployer le traitement des données dans un environnement Big Data\n",
    "     - Développer les scripts en pyspark pour effectuer du calcul distribué\n",
    "     - à utiliser le cloud AWS pour profiter d’une architecture Big Data (EMR, S3, IAM)\n",
    "     "
   ]
  },
  {
   "cell_type": "code",
   "execution_count": 92,
   "id": "f11cdc27",
   "metadata": {},
   "outputs": [],
   "source": [
    "import warnings\n",
    "warnings.filterwarnings('always')\n",
    "warnings.filterwarnings('ignore')"
   ]
  },
  {
   "cell_type": "code",
   "execution_count": 93,
   "id": "fc20061d",
   "metadata": {},
   "outputs": [],
   "source": [
    "#pip install findspark"
   ]
  },
  {
   "cell_type": "code",
   "execution_count": 94,
   "id": "816f9827",
   "metadata": {},
   "outputs": [],
   "source": [
    "import findspark\n",
    "findspark.init(\"C:\\Spark\")\n",
    "# findspark.add_packages('mysql:mysql-connector-java:8.0.11')\n"
   ]
  },
  {
   "cell_type": "code",
   "execution_count": 95,
   "id": "f33849ba",
   "metadata": {},
   "outputs": [],
   "source": [
    "from pyspark import SparkContext"
   ]
  },
  {
   "cell_type": "code",
   "execution_count": 96,
   "id": "67067a5b",
   "metadata": {},
   "outputs": [],
   "source": [
    "import pandas as pd\n",
    "from PIL import Image\n",
    "import numpy as np\n",
    "import io\n",
    "import os\n",
    "\n",
    "import matplotlib.pyplot as plt\n",
    "import tensorflow as tf\n",
    "\n",
    "from tensorflow.keras.preprocessing.image import img_to_array\n",
    "from tensorflow.keras import Model\n",
    "from pyspark.sql.functions import col, pandas_udf, PandasUDFType, element_at, split\n",
    "from pyspark.sql import SparkSession\n",
    "from tensorflow.keras.applications.mobilenet_v2 import MobileNetV2, preprocess_input\n",
    "\n",
    "# data handling\n",
    "from pyspark.sql.functions import element_at, split\n",
    "from pyspark.sql.functions import pandas_udf, PandasUDFType\n",
    "from pyspark.sql.functions import udf\n",
    "from pyspark.sql.functions import input_file_name\n",
    "from pyspark.sql.types import *\n",
    "from typing import Iterator\n",
    "\n",
    "# ml tasks\n",
    "from pyspark.ml.image import ImageSchema\n",
    "from pyspark.ml.feature import VectorAssembler\n",
    "from pyspark.ml.feature import PCA\n",
    "from pyspark.ml.feature import  StringIndexer\n",
    "# transform\n",
    "from pyspark.ml.image import ImageSchema\n",
    "from pyspark.ml.linalg import Vectors, VectorUDT"
   ]
  },
  {
   "cell_type": "code",
   "execution_count": 2,
   "id": "c0d8fb41",
   "metadata": {},
   "outputs": [
    {
     "name": "stdout",
     "output_type": "stream",
     "text": [
      "PATH:        .\n",
      "PATH_Data:   ./data/Test1\n",
      "PATH_Result: ./data/Results\n"
     ]
    }
   ],
   "source": [
    "PATH = '.'\n",
    "PATH_Data = PATH+'/data/Test1'\n",
    "PATH_Result = PATH+'/data/Results'\n",
    "print('PATH:        '+\\\n",
    "      PATH+'\\nPATH_Data:   '+\\\n",
    "      PATH_Data+'\\nPATH_Result: '+PATH_Result)"
   ]
  },
  {
   "cell_type": "code",
   "execution_count": 98,
   "id": "690ce707",
   "metadata": {},
   "outputs": [],
   "source": [
    "spark = (\n",
    "        SparkSession\n",
    "        .builder\n",
    "        .config(\"spark.driver.memory\", \"25g\") \\\n",
    "        .config(\"spark.executor.memory\",\"20g\")\\\n",
    "       \n",
    "        .config(\"spark.sql.parquet.writeLegacyFormat\", 'true')\\\n",
    "        .config('spark.driver.maxResultSize', '20G')\n",
    "        .master('local') \\\n",
    "        .appName('P8') \\\n",
    "        .getOrCreate()\n",
    "    ) \n",
    "\n",
    "\n",
    "sc = spark.sparkContext\n",
    "    "
   ]
  },
  {
   "cell_type": "code",
   "execution_count": 99,
   "id": "e5a04597",
   "metadata": {
    "scrolled": true
   },
   "outputs": [
    {
     "data": {
      "text/html": [
       "\n",
       "            <div>\n",
       "                <p><b>SparkSession - in-memory</b></p>\n",
       "                \n",
       "        <div>\n",
       "            <p><b>SparkContext</b></p>\n",
       "\n",
       "            <p><a href=\"http://NOTE-155:4040\">Spark UI</a></p>\n",
       "\n",
       "            <dl>\n",
       "              <dt>Version</dt>\n",
       "                <dd><code>v3.3.1</code></dd>\n",
       "              <dt>Master</dt>\n",
       "                <dd><code>local</code></dd>\n",
       "              <dt>AppName</dt>\n",
       "                <dd><code>P8</code></dd>\n",
       "            </dl>\n",
       "        </div>\n",
       "        \n",
       "            </div>\n",
       "        "
      ],
      "text/plain": [
       "<pyspark.sql.session.SparkSession at 0x22d7c813e50>"
      ]
     },
     "execution_count": 99,
     "metadata": {},
     "output_type": "execute_result"
    }
   ],
   "source": [
    "spark"
   ]
  },
  {
   "cell_type": "code",
   "execution_count": 100,
   "id": "8856a305",
   "metadata": {},
   "outputs": [],
   "source": [
    "#images = sc.binaryFiles(PATH+'/data/Test1/Apple Golden 1')"
   ]
  },
  {
   "cell_type": "code",
   "execution_count": 101,
   "id": "ce2094a2",
   "metadata": {},
   "outputs": [],
   "source": [
    "images = spark.read.format(\"binaryFile\") "
   ]
  },
  {
   "cell_type": "code",
   "execution_count": 102,
   "id": "b460c737",
   "metadata": {},
   "outputs": [
    {
     "data": {
      "text/plain": [
       "<pyspark.sql.readwriter.DataFrameReader at 0x22d7e7cca30>"
      ]
     },
     "execution_count": 102,
     "metadata": {},
     "output_type": "execute_result"
    }
   ],
   "source": [
    "images.option(\"pathGlobFilter\", \"*.jpg\")"
   ]
  },
  {
   "cell_type": "code",
   "execution_count": 103,
   "id": "b0cdc71b",
   "metadata": {},
   "outputs": [
    {
     "data": {
      "text/plain": [
       "<pyspark.sql.readwriter.DataFrameReader at 0x22d7e7cca30>"
      ]
     },
     "execution_count": 103,
     "metadata": {},
     "output_type": "execute_result"
    }
   ],
   "source": [
    "images.option(\"recursiveFileLookup\", \"true\")"
   ]
  },
  {
   "cell_type": "code",
   "execution_count": 104,
   "id": "d917482f",
   "metadata": {},
   "outputs": [
    {
     "data": {
      "text/plain": [
       "DataFrame[path: string, modificationTime: timestamp, length: bigint, content: binary]"
      ]
     },
     "execution_count": 104,
     "metadata": {},
     "output_type": "execute_result"
    }
   ],
   "source": [
    "images.load(PATH_Data)"
   ]
  },
  {
   "cell_type": "code",
   "execution_count": 105,
   "id": "2f0c26c1",
   "metadata": {},
   "outputs": [],
   "source": [
    "images = spark.read.format(\"binaryFile\") \\\n",
    "  .option(\"pathGlobFilter\", \"*.jpg\") \\\n",
    "  .option(\"recursiveFileLookup\", \"true\") \\\n",
    "  .load(PATH_Data)"
   ]
  },
  {
   "cell_type": "code",
   "execution_count": 106,
   "id": "4e3a7198",
   "metadata": {},
   "outputs": [
    {
     "data": {
      "text/plain": [
       "1608"
      ]
     },
     "execution_count": 106,
     "metadata": {},
     "output_type": "execute_result"
    }
   ],
   "source": [
    "images.count()"
   ]
  },
  {
   "cell_type": "code",
   "execution_count": 107,
   "id": "ec630b14",
   "metadata": {},
   "outputs": [],
   "source": [
    "images = images.withColumn('label', element_at(split(images['path'], '/'),-2))"
   ]
  },
  {
   "cell_type": "code",
   "execution_count": 108,
   "id": "b63cec0d",
   "metadata": {},
   "outputs": [
    {
     "name": "stdout",
     "output_type": "stream",
     "text": [
      "root\n",
      " |-- path: string (nullable = true)\n",
      " |-- modificationTime: timestamp (nullable = true)\n",
      " |-- length: long (nullable = true)\n",
      " |-- content: binary (nullable = true)\n",
      " |-- label: string (nullable = true)\n",
      "\n",
      "None\n",
      "+------------------------------------------------------------------------------------+--------------+\n",
      "|path                                                                                |label         |\n",
      "+------------------------------------------------------------------------------------+--------------+\n",
      "|file:/C:/Users/Haci.KIZIL/Desktop/P8_Kapanoglu/data/Test1/Apple Golden 1/114_100.jpg|Apple Golden 1|\n",
      "|file:/C:/Users/Haci.KIZIL/Desktop/P8_Kapanoglu/data/Test1/Apple Golden 1/103_100.jpg|Apple Golden 1|\n",
      "|file:/C:/Users/Haci.KIZIL/Desktop/P8_Kapanoglu/data/Test1/Apple Golden 1/101_100.jpg|Apple Golden 1|\n",
      "|file:/C:/Users/Haci.KIZIL/Desktop/P8_Kapanoglu/data/Test1/Apple Golden 1/96_100.jpg |Apple Golden 1|\n",
      "|file:/C:/Users/Haci.KIZIL/Desktop/P8_Kapanoglu/data/Test1/Apple Golden 1/100_100.jpg|Apple Golden 1|\n",
      "+------------------------------------------------------------------------------------+--------------+\n",
      "only showing top 5 rows\n",
      "\n",
      "None\n"
     ]
    }
   ],
   "source": [
    "print(images.printSchema())\n",
    "print(images.select('path','label').show(5,False))"
   ]
  },
  {
   "cell_type": "markdown",
   "id": "04ce6dfa",
   "metadata": {},
   "source": [
    "#  Préparation du modèle"
   ]
  },
  {
   "cell_type": "markdown",
   "id": "7c42880e",
   "metadata": {},
   "source": [
    "### EXTRACTION DES FEATURES\n"
   ]
  },
  {
   "cell_type": "code",
   "execution_count": 109,
   "id": "7e867287",
   "metadata": {},
   "outputs": [],
   "source": [
    "model = MobileNetV2(weights='imagenet',\n",
    "                    include_top=True,\n",
    "                    input_shape=(224, 224, 3))"
   ]
  },
  {
   "cell_type": "code",
   "execution_count": 110,
   "id": "5e95f7b3",
   "metadata": {},
   "outputs": [],
   "source": [
    "new_model = Model(inputs=model.input,\n",
    "                  outputs=model.layers[-2].output)"
   ]
  },
  {
   "cell_type": "code",
   "execution_count": 111,
   "id": "4ad4315a",
   "metadata": {},
   "outputs": [
    {
     "name": "stdout",
     "output_type": "stream",
     "text": [
      "Model: \"model_2\"\n",
      "__________________________________________________________________________________________________\n",
      " Layer (type)                   Output Shape         Param #     Connected to                     \n",
      "==================================================================================================\n",
      " input_3 (InputLayer)           [(None, 224, 224, 3  0           []                               \n",
      "                                )]                                                                \n",
      "                                                                                                  \n",
      " Conv1 (Conv2D)                 (None, 112, 112, 32  864         ['input_3[0][0]']                \n",
      "                                )                                                                 \n",
      "                                                                                                  \n",
      " bn_Conv1 (BatchNormalization)  (None, 112, 112, 32  128         ['Conv1[0][0]']                  \n",
      "                                )                                                                 \n",
      "                                                                                                  \n",
      " Conv1_relu (ReLU)              (None, 112, 112, 32  0           ['bn_Conv1[0][0]']               \n",
      "                                )                                                                 \n",
      "                                                                                                  \n",
      " expanded_conv_depthwise (Depth  (None, 112, 112, 32  288        ['Conv1_relu[0][0]']             \n",
      " wiseConv2D)                    )                                                                 \n",
      "                                                                                                  \n",
      " expanded_conv_depthwise_BN (Ba  (None, 112, 112, 32  128        ['expanded_conv_depthwise[0][0]']\n",
      " tchNormalization)              )                                                                 \n",
      "                                                                                                  \n",
      " expanded_conv_depthwise_relu (  (None, 112, 112, 32  0          ['expanded_conv_depthwise_BN[0][0\n",
      " ReLU)                          )                                ]']                              \n",
      "                                                                                                  \n",
      " expanded_conv_project (Conv2D)  (None, 112, 112, 16  512        ['expanded_conv_depthwise_relu[0]\n",
      "                                )                                [0]']                            \n",
      "                                                                                                  \n",
      " expanded_conv_project_BN (Batc  (None, 112, 112, 16  64         ['expanded_conv_project[0][0]']  \n",
      " hNormalization)                )                                                                 \n",
      "                                                                                                  \n",
      " block_1_expand (Conv2D)        (None, 112, 112, 96  1536        ['expanded_conv_project_BN[0][0]'\n",
      "                                )                                ]                                \n",
      "                                                                                                  \n",
      " block_1_expand_BN (BatchNormal  (None, 112, 112, 96  384        ['block_1_expand[0][0]']         \n",
      " ization)                       )                                                                 \n",
      "                                                                                                  \n",
      " block_1_expand_relu (ReLU)     (None, 112, 112, 96  0           ['block_1_expand_BN[0][0]']      \n",
      "                                )                                                                 \n",
      "                                                                                                  \n",
      " block_1_pad (ZeroPadding2D)    (None, 113, 113, 96  0           ['block_1_expand_relu[0][0]']    \n",
      "                                )                                                                 \n",
      "                                                                                                  \n",
      " block_1_depthwise (DepthwiseCo  (None, 56, 56, 96)  864         ['block_1_pad[0][0]']            \n",
      " nv2D)                                                                                            \n",
      "                                                                                                  \n",
      " block_1_depthwise_BN (BatchNor  (None, 56, 56, 96)  384         ['block_1_depthwise[0][0]']      \n",
      " malization)                                                                                      \n",
      "                                                                                                  \n",
      " block_1_depthwise_relu (ReLU)  (None, 56, 56, 96)   0           ['block_1_depthwise_BN[0][0]']   \n",
      "                                                                                                  \n",
      " block_1_project (Conv2D)       (None, 56, 56, 24)   2304        ['block_1_depthwise_relu[0][0]'] \n",
      "                                                                                                  \n",
      " block_1_project_BN (BatchNorma  (None, 56, 56, 24)  96          ['block_1_project[0][0]']        \n",
      " lization)                                                                                        \n",
      "                                                                                                  \n",
      " block_2_expand (Conv2D)        (None, 56, 56, 144)  3456        ['block_1_project_BN[0][0]']     \n",
      "                                                                                                  \n",
      " block_2_expand_BN (BatchNormal  (None, 56, 56, 144)  576        ['block_2_expand[0][0]']         \n",
      " ization)                                                                                         \n",
      "                                                                                                  \n",
      " block_2_expand_relu (ReLU)     (None, 56, 56, 144)  0           ['block_2_expand_BN[0][0]']      \n",
      "                                                                                                  \n",
      " block_2_depthwise (DepthwiseCo  (None, 56, 56, 144)  1296       ['block_2_expand_relu[0][0]']    \n",
      " nv2D)                                                                                            \n",
      "                                                                                                  \n",
      " block_2_depthwise_BN (BatchNor  (None, 56, 56, 144)  576        ['block_2_depthwise[0][0]']      \n",
      " malization)                                                                                      \n",
      "                                                                                                  \n",
      " block_2_depthwise_relu (ReLU)  (None, 56, 56, 144)  0           ['block_2_depthwise_BN[0][0]']   \n",
      "                                                                                                  \n",
      " block_2_project (Conv2D)       (None, 56, 56, 24)   3456        ['block_2_depthwise_relu[0][0]'] \n",
      "                                                                                                  \n",
      " block_2_project_BN (BatchNorma  (None, 56, 56, 24)  96          ['block_2_project[0][0]']        \n",
      " lization)                                                                                        \n",
      "                                                                                                  \n",
      " block_2_add (Add)              (None, 56, 56, 24)   0           ['block_1_project_BN[0][0]',     \n",
      "                                                                  'block_2_project_BN[0][0]']     \n",
      "                                                                                                  \n",
      " block_3_expand (Conv2D)        (None, 56, 56, 144)  3456        ['block_2_add[0][0]']            \n",
      "                                                                                                  \n",
      " block_3_expand_BN (BatchNormal  (None, 56, 56, 144)  576        ['block_3_expand[0][0]']         \n",
      " ization)                                                                                         \n",
      "                                                                                                  \n"
     ]
    },
    {
     "name": "stdout",
     "output_type": "stream",
     "text": [
      " block_3_expand_relu (ReLU)     (None, 56, 56, 144)  0           ['block_3_expand_BN[0][0]']      \n",
      "                                                                                                  \n",
      " block_3_pad (ZeroPadding2D)    (None, 57, 57, 144)  0           ['block_3_expand_relu[0][0]']    \n",
      "                                                                                                  \n",
      " block_3_depthwise (DepthwiseCo  (None, 28, 28, 144)  1296       ['block_3_pad[0][0]']            \n",
      " nv2D)                                                                                            \n",
      "                                                                                                  \n",
      " block_3_depthwise_BN (BatchNor  (None, 28, 28, 144)  576        ['block_3_depthwise[0][0]']      \n",
      " malization)                                                                                      \n",
      "                                                                                                  \n",
      " block_3_depthwise_relu (ReLU)  (None, 28, 28, 144)  0           ['block_3_depthwise_BN[0][0]']   \n",
      "                                                                                                  \n",
      " block_3_project (Conv2D)       (None, 28, 28, 32)   4608        ['block_3_depthwise_relu[0][0]'] \n",
      "                                                                                                  \n",
      " block_3_project_BN (BatchNorma  (None, 28, 28, 32)  128         ['block_3_project[0][0]']        \n",
      " lization)                                                                                        \n",
      "                                                                                                  \n",
      " block_4_expand (Conv2D)        (None, 28, 28, 192)  6144        ['block_3_project_BN[0][0]']     \n",
      "                                                                                                  \n",
      " block_4_expand_BN (BatchNormal  (None, 28, 28, 192)  768        ['block_4_expand[0][0]']         \n",
      " ization)                                                                                         \n",
      "                                                                                                  \n",
      " block_4_expand_relu (ReLU)     (None, 28, 28, 192)  0           ['block_4_expand_BN[0][0]']      \n",
      "                                                                                                  \n",
      " block_4_depthwise (DepthwiseCo  (None, 28, 28, 192)  1728       ['block_4_expand_relu[0][0]']    \n",
      " nv2D)                                                                                            \n",
      "                                                                                                  \n",
      " block_4_depthwise_BN (BatchNor  (None, 28, 28, 192)  768        ['block_4_depthwise[0][0]']      \n",
      " malization)                                                                                      \n",
      "                                                                                                  \n",
      " block_4_depthwise_relu (ReLU)  (None, 28, 28, 192)  0           ['block_4_depthwise_BN[0][0]']   \n",
      "                                                                                                  \n",
      " block_4_project (Conv2D)       (None, 28, 28, 32)   6144        ['block_4_depthwise_relu[0][0]'] \n",
      "                                                                                                  \n",
      " block_4_project_BN (BatchNorma  (None, 28, 28, 32)  128         ['block_4_project[0][0]']        \n",
      " lization)                                                                                        \n",
      "                                                                                                  \n",
      " block_4_add (Add)              (None, 28, 28, 32)   0           ['block_3_project_BN[0][0]',     \n",
      "                                                                  'block_4_project_BN[0][0]']     \n",
      "                                                                                                  \n",
      " block_5_expand (Conv2D)        (None, 28, 28, 192)  6144        ['block_4_add[0][0]']            \n",
      "                                                                                                  \n",
      " block_5_expand_BN (BatchNormal  (None, 28, 28, 192)  768        ['block_5_expand[0][0]']         \n",
      " ization)                                                                                         \n",
      "                                                                                                  \n",
      " block_5_expand_relu (ReLU)     (None, 28, 28, 192)  0           ['block_5_expand_BN[0][0]']      \n",
      "                                                                                                  \n",
      " block_5_depthwise (DepthwiseCo  (None, 28, 28, 192)  1728       ['block_5_expand_relu[0][0]']    \n",
      " nv2D)                                                                                            \n",
      "                                                                                                  \n",
      " block_5_depthwise_BN (BatchNor  (None, 28, 28, 192)  768        ['block_5_depthwise[0][0]']      \n",
      " malization)                                                                                      \n",
      "                                                                                                  \n",
      " block_5_depthwise_relu (ReLU)  (None, 28, 28, 192)  0           ['block_5_depthwise_BN[0][0]']   \n",
      "                                                                                                  \n",
      " block_5_project (Conv2D)       (None, 28, 28, 32)   6144        ['block_5_depthwise_relu[0][0]'] \n",
      "                                                                                                  \n",
      " block_5_project_BN (BatchNorma  (None, 28, 28, 32)  128         ['block_5_project[0][0]']        \n",
      " lization)                                                                                        \n",
      "                                                                                                  \n",
      " block_5_add (Add)              (None, 28, 28, 32)   0           ['block_4_add[0][0]',            \n",
      "                                                                  'block_5_project_BN[0][0]']     \n",
      "                                                                                                  \n",
      " block_6_expand (Conv2D)        (None, 28, 28, 192)  6144        ['block_5_add[0][0]']            \n",
      "                                                                                                  \n",
      " block_6_expand_BN (BatchNormal  (None, 28, 28, 192)  768        ['block_6_expand[0][0]']         \n",
      " ization)                                                                                         \n",
      "                                                                                                  \n",
      " block_6_expand_relu (ReLU)     (None, 28, 28, 192)  0           ['block_6_expand_BN[0][0]']      \n",
      "                                                                                                  \n",
      " block_6_pad (ZeroPadding2D)    (None, 29, 29, 192)  0           ['block_6_expand_relu[0][0]']    \n",
      "                                                                                                  \n",
      " block_6_depthwise (DepthwiseCo  (None, 14, 14, 192)  1728       ['block_6_pad[0][0]']            \n",
      " nv2D)                                                                                            \n",
      "                                                                                                  \n",
      " block_6_depthwise_BN (BatchNor  (None, 14, 14, 192)  768        ['block_6_depthwise[0][0]']      \n",
      " malization)                                                                                      \n",
      "                                                                                                  \n",
      " block_6_depthwise_relu (ReLU)  (None, 14, 14, 192)  0           ['block_6_depthwise_BN[0][0]']   \n",
      "                                                                                                  \n",
      " block_6_project (Conv2D)       (None, 14, 14, 64)   12288       ['block_6_depthwise_relu[0][0]'] \n",
      "                                                                                                  \n",
      " block_6_project_BN (BatchNorma  (None, 14, 14, 64)  256         ['block_6_project[0][0]']        \n"
     ]
    },
    {
     "name": "stdout",
     "output_type": "stream",
     "text": [
      " lization)                                                                                        \n",
      "                                                                                                  \n",
      " block_7_expand (Conv2D)        (None, 14, 14, 384)  24576       ['block_6_project_BN[0][0]']     \n",
      "                                                                                                  \n",
      " block_7_expand_BN (BatchNormal  (None, 14, 14, 384)  1536       ['block_7_expand[0][0]']         \n",
      " ization)                                                                                         \n",
      "                                                                                                  \n",
      " block_7_expand_relu (ReLU)     (None, 14, 14, 384)  0           ['block_7_expand_BN[0][0]']      \n",
      "                                                                                                  \n",
      " block_7_depthwise (DepthwiseCo  (None, 14, 14, 384)  3456       ['block_7_expand_relu[0][0]']    \n",
      " nv2D)                                                                                            \n",
      "                                                                                                  \n",
      " block_7_depthwise_BN (BatchNor  (None, 14, 14, 384)  1536       ['block_7_depthwise[0][0]']      \n",
      " malization)                                                                                      \n",
      "                                                                                                  \n",
      " block_7_depthwise_relu (ReLU)  (None, 14, 14, 384)  0           ['block_7_depthwise_BN[0][0]']   \n",
      "                                                                                                  \n",
      " block_7_project (Conv2D)       (None, 14, 14, 64)   24576       ['block_7_depthwise_relu[0][0]'] \n",
      "                                                                                                  \n",
      " block_7_project_BN (BatchNorma  (None, 14, 14, 64)  256         ['block_7_project[0][0]']        \n",
      " lization)                                                                                        \n",
      "                                                                                                  \n",
      " block_7_add (Add)              (None, 14, 14, 64)   0           ['block_6_project_BN[0][0]',     \n",
      "                                                                  'block_7_project_BN[0][0]']     \n",
      "                                                                                                  \n",
      " block_8_expand (Conv2D)        (None, 14, 14, 384)  24576       ['block_7_add[0][0]']            \n",
      "                                                                                                  \n",
      " block_8_expand_BN (BatchNormal  (None, 14, 14, 384)  1536       ['block_8_expand[0][0]']         \n",
      " ization)                                                                                         \n",
      "                                                                                                  \n",
      " block_8_expand_relu (ReLU)     (None, 14, 14, 384)  0           ['block_8_expand_BN[0][0]']      \n",
      "                                                                                                  \n",
      " block_8_depthwise (DepthwiseCo  (None, 14, 14, 384)  3456       ['block_8_expand_relu[0][0]']    \n",
      " nv2D)                                                                                            \n",
      "                                                                                                  \n",
      " block_8_depthwise_BN (BatchNor  (None, 14, 14, 384)  1536       ['block_8_depthwise[0][0]']      \n",
      " malization)                                                                                      \n",
      "                                                                                                  \n",
      " block_8_depthwise_relu (ReLU)  (None, 14, 14, 384)  0           ['block_8_depthwise_BN[0][0]']   \n",
      "                                                                                                  \n",
      " block_8_project (Conv2D)       (None, 14, 14, 64)   24576       ['block_8_depthwise_relu[0][0]'] \n",
      "                                                                                                  \n",
      " block_8_project_BN (BatchNorma  (None, 14, 14, 64)  256         ['block_8_project[0][0]']        \n",
      " lization)                                                                                        \n",
      "                                                                                                  \n",
      " block_8_add (Add)              (None, 14, 14, 64)   0           ['block_7_add[0][0]',            \n",
      "                                                                  'block_8_project_BN[0][0]']     \n",
      "                                                                                                  \n",
      " block_9_expand (Conv2D)        (None, 14, 14, 384)  24576       ['block_8_add[0][0]']            \n",
      "                                                                                                  \n",
      " block_9_expand_BN (BatchNormal  (None, 14, 14, 384)  1536       ['block_9_expand[0][0]']         \n",
      " ization)                                                                                         \n",
      "                                                                                                  \n",
      " block_9_expand_relu (ReLU)     (None, 14, 14, 384)  0           ['block_9_expand_BN[0][0]']      \n",
      "                                                                                                  \n",
      " block_9_depthwise (DepthwiseCo  (None, 14, 14, 384)  3456       ['block_9_expand_relu[0][0]']    \n",
      " nv2D)                                                                                            \n",
      "                                                                                                  \n",
      " block_9_depthwise_BN (BatchNor  (None, 14, 14, 384)  1536       ['block_9_depthwise[0][0]']      \n",
      " malization)                                                                                      \n",
      "                                                                                                  \n",
      " block_9_depthwise_relu (ReLU)  (None, 14, 14, 384)  0           ['block_9_depthwise_BN[0][0]']   \n",
      "                                                                                                  \n",
      " block_9_project (Conv2D)       (None, 14, 14, 64)   24576       ['block_9_depthwise_relu[0][0]'] \n",
      "                                                                                                  \n",
      " block_9_project_BN (BatchNorma  (None, 14, 14, 64)  256         ['block_9_project[0][0]']        \n",
      " lization)                                                                                        \n",
      "                                                                                                  \n",
      " block_9_add (Add)              (None, 14, 14, 64)   0           ['block_8_add[0][0]',            \n",
      "                                                                  'block_9_project_BN[0][0]']     \n",
      "                                                                                                  \n",
      " block_10_expand (Conv2D)       (None, 14, 14, 384)  24576       ['block_9_add[0][0]']            \n",
      "                                                                                                  \n",
      " block_10_expand_BN (BatchNorma  (None, 14, 14, 384)  1536       ['block_10_expand[0][0]']        \n",
      " lization)                                                                                        \n",
      "                                                                                                  \n",
      " block_10_expand_relu (ReLU)    (None, 14, 14, 384)  0           ['block_10_expand_BN[0][0]']     \n",
      "                                                                                                  \n",
      " block_10_depthwise (DepthwiseC  (None, 14, 14, 384)  3456       ['block_10_expand_relu[0][0]']   \n",
      " onv2D)                                                                                           \n",
      "                                                                                                  \n",
      " block_10_depthwise_BN (BatchNo  (None, 14, 14, 384)  1536       ['block_10_depthwise[0][0]']     \n",
      " rmalization)                                                                                     \n"
     ]
    },
    {
     "name": "stdout",
     "output_type": "stream",
     "text": [
      "                                                                                                  \n",
      " block_10_depthwise_relu (ReLU)  (None, 14, 14, 384)  0          ['block_10_depthwise_BN[0][0]']  \n",
      "                                                                                                  \n",
      " block_10_project (Conv2D)      (None, 14, 14, 96)   36864       ['block_10_depthwise_relu[0][0]']\n",
      "                                                                                                  \n",
      " block_10_project_BN (BatchNorm  (None, 14, 14, 96)  384         ['block_10_project[0][0]']       \n",
      " alization)                                                                                       \n",
      "                                                                                                  \n",
      " block_11_expand (Conv2D)       (None, 14, 14, 576)  55296       ['block_10_project_BN[0][0]']    \n",
      "                                                                                                  \n",
      " block_11_expand_BN (BatchNorma  (None, 14, 14, 576)  2304       ['block_11_expand[0][0]']        \n",
      " lization)                                                                                        \n",
      "                                                                                                  \n",
      " block_11_expand_relu (ReLU)    (None, 14, 14, 576)  0           ['block_11_expand_BN[0][0]']     \n",
      "                                                                                                  \n",
      " block_11_depthwise (DepthwiseC  (None, 14, 14, 576)  5184       ['block_11_expand_relu[0][0]']   \n",
      " onv2D)                                                                                           \n",
      "                                                                                                  \n",
      " block_11_depthwise_BN (BatchNo  (None, 14, 14, 576)  2304       ['block_11_depthwise[0][0]']     \n",
      " rmalization)                                                                                     \n",
      "                                                                                                  \n",
      " block_11_depthwise_relu (ReLU)  (None, 14, 14, 576)  0          ['block_11_depthwise_BN[0][0]']  \n",
      "                                                                                                  \n",
      " block_11_project (Conv2D)      (None, 14, 14, 96)   55296       ['block_11_depthwise_relu[0][0]']\n",
      "                                                                                                  \n",
      " block_11_project_BN (BatchNorm  (None, 14, 14, 96)  384         ['block_11_project[0][0]']       \n",
      " alization)                                                                                       \n",
      "                                                                                                  \n",
      " block_11_add (Add)             (None, 14, 14, 96)   0           ['block_10_project_BN[0][0]',    \n",
      "                                                                  'block_11_project_BN[0][0]']    \n",
      "                                                                                                  \n",
      " block_12_expand (Conv2D)       (None, 14, 14, 576)  55296       ['block_11_add[0][0]']           \n",
      "                                                                                                  \n",
      " block_12_expand_BN (BatchNorma  (None, 14, 14, 576)  2304       ['block_12_expand[0][0]']        \n",
      " lization)                                                                                        \n",
      "                                                                                                  \n",
      " block_12_expand_relu (ReLU)    (None, 14, 14, 576)  0           ['block_12_expand_BN[0][0]']     \n",
      "                                                                                                  \n",
      " block_12_depthwise (DepthwiseC  (None, 14, 14, 576)  5184       ['block_12_expand_relu[0][0]']   \n",
      " onv2D)                                                                                           \n",
      "                                                                                                  \n",
      " block_12_depthwise_BN (BatchNo  (None, 14, 14, 576)  2304       ['block_12_depthwise[0][0]']     \n",
      " rmalization)                                                                                     \n",
      "                                                                                                  \n",
      " block_12_depthwise_relu (ReLU)  (None, 14, 14, 576)  0          ['block_12_depthwise_BN[0][0]']  \n",
      "                                                                                                  \n",
      " block_12_project (Conv2D)      (None, 14, 14, 96)   55296       ['block_12_depthwise_relu[0][0]']\n",
      "                                                                                                  \n",
      " block_12_project_BN (BatchNorm  (None, 14, 14, 96)  384         ['block_12_project[0][0]']       \n",
      " alization)                                                                                       \n",
      "                                                                                                  \n",
      " block_12_add (Add)             (None, 14, 14, 96)   0           ['block_11_add[0][0]',           \n",
      "                                                                  'block_12_project_BN[0][0]']    \n",
      "                                                                                                  \n",
      " block_13_expand (Conv2D)       (None, 14, 14, 576)  55296       ['block_12_add[0][0]']           \n",
      "                                                                                                  \n",
      " block_13_expand_BN (BatchNorma  (None, 14, 14, 576)  2304       ['block_13_expand[0][0]']        \n",
      " lization)                                                                                        \n",
      "                                                                                                  \n",
      " block_13_expand_relu (ReLU)    (None, 14, 14, 576)  0           ['block_13_expand_BN[0][0]']     \n",
      "                                                                                                  \n",
      " block_13_pad (ZeroPadding2D)   (None, 15, 15, 576)  0           ['block_13_expand_relu[0][0]']   \n",
      "                                                                                                  \n",
      " block_13_depthwise (DepthwiseC  (None, 7, 7, 576)   5184        ['block_13_pad[0][0]']           \n",
      " onv2D)                                                                                           \n",
      "                                                                                                  \n",
      " block_13_depthwise_BN (BatchNo  (None, 7, 7, 576)   2304        ['block_13_depthwise[0][0]']     \n",
      " rmalization)                                                                                     \n",
      "                                                                                                  \n",
      " block_13_depthwise_relu (ReLU)  (None, 7, 7, 576)   0           ['block_13_depthwise_BN[0][0]']  \n",
      "                                                                                                  \n",
      " block_13_project (Conv2D)      (None, 7, 7, 160)    92160       ['block_13_depthwise_relu[0][0]']\n",
      "                                                                                                  \n",
      " block_13_project_BN (BatchNorm  (None, 7, 7, 160)   640         ['block_13_project[0][0]']       \n",
      " alization)                                                                                       \n",
      "                                                                                                  \n",
      " block_14_expand (Conv2D)       (None, 7, 7, 960)    153600      ['block_13_project_BN[0][0]']    \n",
      "                                                                                                  \n",
      " block_14_expand_BN (BatchNorma  (None, 7, 7, 960)   3840        ['block_14_expand[0][0]']        \n",
      " lization)                                                                                        \n",
      "                                                                                                  \n",
      " block_14_expand_relu (ReLU)    (None, 7, 7, 960)    0           ['block_14_expand_BN[0][0]']     \n",
      "                                                                                                  \n"
     ]
    },
    {
     "name": "stdout",
     "output_type": "stream",
     "text": [
      " block_14_depthwise (DepthwiseC  (None, 7, 7, 960)   8640        ['block_14_expand_relu[0][0]']   \n",
      " onv2D)                                                                                           \n",
      "                                                                                                  \n",
      " block_14_depthwise_BN (BatchNo  (None, 7, 7, 960)   3840        ['block_14_depthwise[0][0]']     \n",
      " rmalization)                                                                                     \n",
      "                                                                                                  \n",
      " block_14_depthwise_relu (ReLU)  (None, 7, 7, 960)   0           ['block_14_depthwise_BN[0][0]']  \n",
      "                                                                                                  \n",
      " block_14_project (Conv2D)      (None, 7, 7, 160)    153600      ['block_14_depthwise_relu[0][0]']\n",
      "                                                                                                  \n",
      " block_14_project_BN (BatchNorm  (None, 7, 7, 160)   640         ['block_14_project[0][0]']       \n",
      " alization)                                                                                       \n",
      "                                                                                                  \n",
      " block_14_add (Add)             (None, 7, 7, 160)    0           ['block_13_project_BN[0][0]',    \n",
      "                                                                  'block_14_project_BN[0][0]']    \n",
      "                                                                                                  \n",
      " block_15_expand (Conv2D)       (None, 7, 7, 960)    153600      ['block_14_add[0][0]']           \n",
      "                                                                                                  \n",
      " block_15_expand_BN (BatchNorma  (None, 7, 7, 960)   3840        ['block_15_expand[0][0]']        \n",
      " lization)                                                                                        \n",
      "                                                                                                  \n",
      " block_15_expand_relu (ReLU)    (None, 7, 7, 960)    0           ['block_15_expand_BN[0][0]']     \n",
      "                                                                                                  \n",
      " block_15_depthwise (DepthwiseC  (None, 7, 7, 960)   8640        ['block_15_expand_relu[0][0]']   \n",
      " onv2D)                                                                                           \n",
      "                                                                                                  \n",
      " block_15_depthwise_BN (BatchNo  (None, 7, 7, 960)   3840        ['block_15_depthwise[0][0]']     \n",
      " rmalization)                                                                                     \n",
      "                                                                                                  \n",
      " block_15_depthwise_relu (ReLU)  (None, 7, 7, 960)   0           ['block_15_depthwise_BN[0][0]']  \n",
      "                                                                                                  \n",
      " block_15_project (Conv2D)      (None, 7, 7, 160)    153600      ['block_15_depthwise_relu[0][0]']\n",
      "                                                                                                  \n",
      " block_15_project_BN (BatchNorm  (None, 7, 7, 160)   640         ['block_15_project[0][0]']       \n",
      " alization)                                                                                       \n",
      "                                                                                                  \n",
      " block_15_add (Add)             (None, 7, 7, 160)    0           ['block_14_add[0][0]',           \n",
      "                                                                  'block_15_project_BN[0][0]']    \n",
      "                                                                                                  \n",
      " block_16_expand (Conv2D)       (None, 7, 7, 960)    153600      ['block_15_add[0][0]']           \n",
      "                                                                                                  \n",
      " block_16_expand_BN (BatchNorma  (None, 7, 7, 960)   3840        ['block_16_expand[0][0]']        \n",
      " lization)                                                                                        \n",
      "                                                                                                  \n",
      " block_16_expand_relu (ReLU)    (None, 7, 7, 960)    0           ['block_16_expand_BN[0][0]']     \n",
      "                                                                                                  \n",
      " block_16_depthwise (DepthwiseC  (None, 7, 7, 960)   8640        ['block_16_expand_relu[0][0]']   \n",
      " onv2D)                                                                                           \n",
      "                                                                                                  \n",
      " block_16_depthwise_BN (BatchNo  (None, 7, 7, 960)   3840        ['block_16_depthwise[0][0]']     \n",
      " rmalization)                                                                                     \n",
      "                                                                                                  \n",
      " block_16_depthwise_relu (ReLU)  (None, 7, 7, 960)   0           ['block_16_depthwise_BN[0][0]']  \n",
      "                                                                                                  \n",
      " block_16_project (Conv2D)      (None, 7, 7, 320)    307200      ['block_16_depthwise_relu[0][0]']\n",
      "                                                                                                  \n",
      " block_16_project_BN (BatchNorm  (None, 7, 7, 320)   1280        ['block_16_project[0][0]']       \n",
      " alization)                                                                                       \n",
      "                                                                                                  \n",
      " Conv_1 (Conv2D)                (None, 7, 7, 1280)   409600      ['block_16_project_BN[0][0]']    \n",
      "                                                                                                  \n",
      " Conv_1_bn (BatchNormalization)  (None, 7, 7, 1280)  5120        ['Conv_1[0][0]']                 \n",
      "                                                                                                  \n",
      " out_relu (ReLU)                (None, 7, 7, 1280)   0           ['Conv_1_bn[0][0]']              \n",
      "                                                                                                  \n",
      " global_average_pooling2d_2 (Gl  (None, 1280)        0           ['out_relu[0][0]']               \n",
      " obalAveragePooling2D)                                                                            \n",
      "                                                                                                  \n",
      "==================================================================================================\n",
      "Total params: 2,257,984\n",
      "Trainable params: 2,223,872\n",
      "Non-trainable params: 34,112\n",
      "__________________________________________________________________________________________________\n"
     ]
    }
   ],
   "source": [
    "new_model.summary()"
   ]
  },
  {
   "cell_type": "code",
   "execution_count": 112,
   "id": "f96f8186",
   "metadata": {},
   "outputs": [],
   "source": [
    "brodcast_weights = sc.broadcast(new_model.get_weights())"
   ]
  },
  {
   "cell_type": "code",
   "execution_count": 113,
   "id": "c7b6c657",
   "metadata": {},
   "outputs": [],
   "source": [
    "def model_fn():\n",
    "    \"\"\"\n",
    "    Returns a MobileNetV2 model with top layer removed \n",
    "    and broadcasted pretrained weights.\n",
    "    \"\"\"\n",
    "    model = MobileNetV2(weights='imagenet',\n",
    "                        include_top=True,\n",
    "                        input_shape=(224, 224, 3))\n",
    "    for layer in model.layers:\n",
    "        layer.trainable = False\n",
    "    new_model = Model(inputs=model.input,\n",
    "                  outputs=model.layers[-2].output)\n",
    "    new_model.set_weights(brodcast_weights.value)\n",
    "    return new_model"
   ]
  },
  {
   "cell_type": "markdown",
   "id": "7d077641",
   "metadata": {},
   "source": [
    "### Définition du processus de chargement des images et application <br/>de leur featurisation à travers l'utilisation de pandas UDF"
   ]
  },
  {
   "cell_type": "code",
   "execution_count": 114,
   "id": "2b6a209d",
   "metadata": {},
   "outputs": [],
   "source": [
    "def preprocess(content):\n",
    "    \"\"\"\n",
    "    Preprocesses raw image bytes for prediction.\n",
    "    \"\"\"\n",
    "    img = Image.open(io.BytesIO(content)).resize([224, 224])\n",
    "    arr = img_to_array(img)\n",
    "    return preprocess_input(arr)\n",
    "\n",
    "def featurize_series(model, content_series):\n",
    "    \"\"\"\n",
    "    Featurize a pd.Series of raw images using the input model.\n",
    "    :return: a pd.Series of image features\n",
    "    \"\"\"\n",
    "    input = np.stack(content_series.map(preprocess))\n",
    "    preds = model.predict(input)\n",
    "    # For some layers, output features will be multi-dimensional tensors.\n",
    "    # We flatten the feature tensors to vectors for easier storage in Spark DataFrames.\n",
    "    output = [p.flatten() for p in preds]\n",
    "    return pd.Series(output)\n",
    "\n",
    "@pandas_udf('array<float>', PandasUDFType.SCALAR_ITER)\n",
    "def featurize_udf(content_series_iter):\n",
    "    '''\n",
    "    This method is a Scalar Iterator pandas UDF wrapping our featurization function.\n",
    "    The decorator specifies that this returns a Spark DataFrame column of type ArrayType(FloatType).\n",
    "\n",
    "    :param content_series_iter: This argument is an iterator over batches of data, where each batch\n",
    "                              is a pandas Series of image data.\n",
    "    '''\n",
    "    # With Scalar Iterator pandas UDFs, we can load the model once and then re-use it\n",
    "    # for multiple data batches.  This amortizes the overhead of loading big models.\n",
    "    model = model_fn()\n",
    "    for content_series in content_series_iter:\n",
    "        yield featurize_series(model, content_series)"
   ]
  },
  {
   "cell_type": "markdown",
   "id": "650e1bde",
   "metadata": {},
   "source": [
    "### Exécution des actions d'extraction de features\n"
   ]
  },
  {
   "cell_type": "markdown",
   "id": "76f9bbb7",
   "metadata": {},
   "source": [
    "Les Pandas UDF, sur de grands enregistrements (par exemple, de très grandes images), peuvent rencontrer des erreurs de type Out Of Memory (OOM), pour eviter ce probléme on réduit la taille du lot Arrow via 'maxRecordsPerBatch'"
   ]
  },
  {
   "cell_type": "code",
   "execution_count": 115,
   "id": "08649046",
   "metadata": {},
   "outputs": [],
   "source": [
    "spark.conf.set(\"spark.sql.execution.arrow.maxRecordsPerBatch\", \"1024\")"
   ]
  },
  {
   "cell_type": "code",
   "execution_count": 116,
   "id": "04651d7f",
   "metadata": {},
   "outputs": [],
   "source": [
    "features_df = images.repartition(20).select(col(\"path\"),\n",
    "                                            col(\"label\"),\n",
    "                                            featurize_udf(\"content\").alias(\"features\")\n",
    "                                           )"
   ]
  },
  {
   "cell_type": "code",
   "execution_count": 117,
   "id": "111b4212",
   "metadata": {},
   "outputs": [
    {
     "name": "stdout",
     "output_type": "stream",
     "text": [
      "+--------------------+--------------+--------------------+\n",
      "|                path|         label|            features|\n",
      "+--------------------+--------------+--------------------+\n",
      "|file:/C:/Users/Ha...|Apple Golden 1|[0.0, 0.047997475...|\n",
      "|file:/C:/Users/Ha...|Apple Golden 1|[0.0011110792, 0....|\n",
      "|file:/C:/Users/Ha...|Apple Golden 1|[0.037223514, 0.0...|\n",
      "|file:/C:/Users/Ha...|Apple Golden 1|[0.0, 0.0, 0.6846...|\n",
      "|file:/C:/Users/Ha...|Apple Golden 1|[0.0, 0.0, 0.3665...|\n",
      "|file:/C:/Users/Ha...|Apple Golden 1|[0.0, 0.02742926,...|\n",
      "|file:/C:/Users/Ha...|Apple Golden 1|[0.0, 0.078590035...|\n",
      "|file:/C:/Users/Ha...|Apple Golden 1|[0.0, 0.0660749, ...|\n",
      "|file:/C:/Users/Ha...|Apple Golden 1|[0.0, 0.0, 0.5278...|\n",
      "|file:/C:/Users/Ha...|Apple Golden 1|[0.30108458, 0.04...|\n",
      "+--------------------+--------------+--------------------+\n",
      "only showing top 10 rows\n",
      "\n"
     ]
    }
   ],
   "source": [
    "features_df.show(10)"
   ]
  },
  {
   "cell_type": "markdown",
   "id": "9e5019b3",
   "metadata": {},
   "source": [
    "### REDUCTION DE DIMENION (PCA)"
   ]
  },
  {
   "cell_type": "markdown",
   "id": "88bcf059",
   "metadata": {},
   "source": [
    "features sont de type array, il faudra la convertir en Type Vector"
   ]
  },
  {
   "cell_type": "code",
   "execution_count": 140,
   "id": "44656c65",
   "metadata": {},
   "outputs": [],
   "source": [
    "#Construction d'une User defined Fonction qui transforme les listes de features en vecteurs denses.\n",
    "array_to_vector_udf = udf(lambda l: Vectors.dense(l), VectorUDT())"
   ]
  },
  {
   "cell_type": "code",
   "execution_count": 123,
   "id": "1e5d3965",
   "metadata": {},
   "outputs": [],
   "source": [
    "#vector_df = features_df.select(to_vector_UDF('features').alias('features'))"
   ]
  },
  {
   "cell_type": "code",
   "execution_count": 141,
   "id": "c8f3af28",
   "metadata": {},
   "outputs": [],
   "source": [
    "vectorized_df = features_df.withColumn('cnn_vectors', array_to_vector_udf('features'))"
   ]
  },
  {
   "cell_type": "code",
   "execution_count": 142,
   "id": "0e738ed8",
   "metadata": {},
   "outputs": [
    {
     "name": "stdout",
     "output_type": "stream",
     "text": [
      "+--------------------+--------------+--------------------+--------------------+\n",
      "|                path|         label|            features|         cnn_vectors|\n",
      "+--------------------+--------------+--------------------+--------------------+\n",
      "|file:/C:/Users/Ha...|Apple Golden 1|[0.0, 0.047997475...|[0.0,0.0479974746...|\n",
      "|file:/C:/Users/Ha...|Apple Golden 1|[0.0011110792, 0....|[0.00111107924021...|\n",
      "|file:/C:/Users/Ha...|Apple Golden 1|[0.037223514, 0.0...|[0.03722351416945...|\n",
      "|file:/C:/Users/Ha...|Apple Golden 1|[0.0, 0.0, 0.6846...|[0.0,0.0,0.684601...|\n",
      "|file:/C:/Users/Ha...|Apple Golden 1|[0.0, 0.0, 0.3665...|[0.0,0.0,0.366576...|\n",
      "|file:/C:/Users/Ha...|Apple Golden 1|[0.0, 0.02742926,...|[0.0,0.0274292603...|\n",
      "|file:/C:/Users/Ha...|Apple Golden 1|[0.0, 0.078590035...|[0.0,0.0785900354...|\n",
      "|file:/C:/Users/Ha...|Apple Golden 1|[0.0, 0.0660749, ...|[0.0,0.0660749003...|\n",
      "|file:/C:/Users/Ha...|Apple Golden 1|[0.0, 0.0, 0.5278...|[0.0,0.0,0.527887...|\n",
      "|file:/C:/Users/Ha...|Apple Golden 1|[0.30108458, 0.04...|[0.30108457803726...|\n",
      "+--------------------+--------------+--------------------+--------------------+\n",
      "only showing top 10 rows\n",
      "\n"
     ]
    }
   ],
   "source": [
    "vectorized_df.show(10, True)"
   ]
  },
  {
   "cell_type": "code",
   "execution_count": 143,
   "id": "2e3488d6",
   "metadata": {},
   "outputs": [],
   "source": [
    "row_ = vectorized_df.select(\"features\").take(1)"
   ]
  },
  {
   "cell_type": "code",
   "execution_count": 144,
   "id": "3023c7b9",
   "metadata": {},
   "outputs": [
    {
     "name": "stdout",
     "output_type": "stream",
     "text": [
      " le nombre de features par image est de:  1280 \n",
      " ====================================================================================================\n"
     ]
    }
   ],
   "source": [
    "# nombre de features \n",
    "# cette partie est à supprimé\n",
    "print(\" le nombre de features par image est de: \", len(row_[0][0]), \"\\n\", 25*\"====\")"
   ]
  },
  {
   "cell_type": "markdown",
   "id": "9f0b8b69",
   "metadata": {},
   "source": [
    "### Recherche du nombre de composantes optimales via l'ACP"
   ]
  },
  {
   "cell_type": "code",
   "execution_count": 145,
   "id": "9a552df0",
   "metadata": {},
   "outputs": [],
   "source": [
    "# Fonction pour réduction de dimensions PCA\n",
    "def reduc_dim_pca(features):\n",
    "    '''Réduction des dimensions PCA sur les feature\n",
    "    Entrée:\n",
    "    - features de l\\'image\n",
    "    \n",
    "    Retour:\n",
    "    - pca\n",
    "    - pca_matrix: résultat de la réduction de dimensions\n",
    "    '''\n",
    "    # Conversion d'un tableau (array) en vecteur dense\n",
    "    # Création d'un fonction utilisateur avec udf\n",
    "    #vector_dense = udf(lambda x: Vectors.dense(x), VectorUDT())\n",
    "    img_vd_df = features.select(\"path\",\"label\",\"cnn_vectors\")\n",
    "    \n",
    "    # PCA\n",
    "    pca_spark = PCA(inputCol=\"cnn_vectors\", outputCol=\"features_pca\", k=100)\n",
    "    pca = pca_spark.fit(img_vd_df)\n",
    "    pca_matrix = pca.transform(img_vd_df)\n",
    "    \n",
    "    return pca, pca_matrix"
   ]
  },
  {
   "cell_type": "code",
   "execution_count": 146,
   "id": "49d13ea4",
   "metadata": {},
   "outputs": [],
   "source": [
    "# Fonction pour la réduction de dimension PCA\n",
    "pca, pca_matrix = reduc_dim_pca(vectorized_df)\n"
   ]
  },
  {
   "cell_type": "code",
   "execution_count": 147,
   "id": "f620a66d",
   "metadata": {},
   "outputs": [
    {
     "name": "stdout",
     "output_type": "stream",
     "text": [
      "+--------------------+------------------+--------------------+--------------------+\n",
      "|                path|             label|         cnn_vectors|        features_pca|\n",
      "+--------------------+------------------+--------------------+--------------------+\n",
      "|file:/C:/Users/Ha...|    Apple Golden 1|[0.0,0.0479974746...|[4.98089584321073...|\n",
      "|file:/C:/Users/Ha...|    Apple Golden 1|[0.00111107924021...|[5.50980016257361...|\n",
      "|file:/C:/Users/Ha...|    Apple Golden 1|[0.03722351416945...|[6.39840192490234...|\n",
      "|file:/C:/Users/Ha...|    Apple Golden 1|[0.0,0.0,0.684601...|[5.43004893616666...|\n",
      "|file:/C:/Users/Ha...|    Apple Golden 1|[0.0,0.0,0.366576...|[3.98251790524833...|\n",
      "|file:/C:/Users/Ha...|    Apple Golden 1|[0.0,0.0274292603...|[7.58072670909864...|\n",
      "|file:/C:/Users/Ha...|    Apple Golden 1|[0.0,0.0785900354...|[4.70645256629018...|\n",
      "|file:/C:/Users/Ha...|    Apple Golden 1|[0.0,0.0660749003...|[4.77716108318939...|\n",
      "|file:/C:/Users/Ha...|    Apple Golden 1|[0.0,0.0,0.527887...|[5.98091586841501...|\n",
      "|file:/C:/Users/Ha...|    Apple Golden 1|[0.30108457803726...|[6.65606951884041...|\n",
      "|file:/C:/Users/Ha...|    Apple Golden 1|[0.04646725580096...|[6.20499713395209...|\n",
      "|file:/C:/Users/Ha...|    Apple Golden 1|[0.0,0.0,0.183206...|[6.58447506776186...|\n",
      "|file:/C:/Users/Ha...|    Apple Golden 1|[0.05055416002869...|[5.90109476390204...|\n",
      "|file:/C:/Users/Ha...|    Apple Golden 1|[0.00387673475779...|[5.88031374705795...|\n",
      "|file:/C:/Users/Ha...|Apple Crimson Snow|[0.0,0.0,0.0,0.0,...|[-2.8030696421467...|\n",
      "|file:/C:/Users/Ha...|    Apple Golden 1|[0.0,0.0241741072...|[6.98971067519546...|\n",
      "|file:/C:/Users/Ha...|    Apple Golden 1|[0.0,0.6196982860...|[5.24937609188189...|\n",
      "|file:/C:/Users/Ha...|    Apple Golden 1|[0.0,0.0567283257...|[6.49499667546596...|\n",
      "|file:/C:/Users/Ha...|    Apple Braeburn|[0.01309019234031...|[-12.442065620066...|\n",
      "|file:/C:/Users/Ha...|    Apple Golden 1|[0.09267588704824...|[7.10548674052478...|\n",
      "+--------------------+------------------+--------------------+--------------------+\n",
      "only showing top 20 rows\n",
      "\n"
     ]
    }
   ],
   "source": [
    "pca_matrix.show(20)"
   ]
  },
  {
   "cell_type": "code",
   "execution_count": 148,
   "id": "8187da1e",
   "metadata": {},
   "outputs": [],
   "source": [
    "# Fonction pour l'affichage du diagramme des éboulis PCA\n",
    "def display_pca_eboulis(pca):\n",
    "    '''Affichage du diagramme des éboulis sur PCA\n",
    "    Entrée:\n",
    "    - pca\n",
    "    \n",
    "    Retour:\n",
    "    - N/A\n",
    "    '''\n",
    "    # Variance expliquée\n",
    "    varexpl = pca.explainedVariance*100\n",
    "        \n",
    "    # Affichage de la variance cumulée\n",
    "    plt.figure(figsize=(11,7))\n",
    "    plt.bar(np.arange(len(varexpl))+1, varexpl)\n",
    "\n",
    "    cumSumVar = varexpl.cumsum()\n",
    "    plt.plot(np.arange(len(varexpl))+1, cumSumVar,c=\"red\",marker='o')\n",
    "    plt.axhline(y=90, linestyle=\"--\", \n",
    "                color=\"green\",\n",
    "                linewidth=1)\n",
    "\n",
    "    limit = 90\n",
    "    valid_idx = np.where(cumSumVar >= limit)[0]\n",
    "    min_plans = valid_idx[cumSumVar[valid_idx].argmin()]+1\n",
    "    plt.axvline(x=min_plans, linestyle=\"--\", \n",
    "                color=\"green\",\n",
    "                linewidth=1)\n",
    "\n",
    "    plt.xlabel(\"Rang de l'axe d'inertie pour les composantes K\")\n",
    "    plt.xticks(np.arange(0,105,5))\n",
    "    plt.xlim(left=0)\n",
    "    plt.ylabel(\"Pourcentage d'inertie\")\n",
    "    plt.title(\"{}% de la variance totale est expliquée\"\\\n",
    "                \" par les {} premiers axes\".format(limit,\n",
    "                                            min_plans))\n",
    "    plt.show(block=False)\n",
    "        \n",
    "    return None"
   ]
  },
  {
   "cell_type": "code",
   "execution_count": 149,
   "id": "ab8c6bc1",
   "metadata": {},
   "outputs": [
    {
     "data": {
      "image/png": "[encoded data removed]",
      "text/plain": [
       "<Figure size 1100x700 with 1 Axes>"
      ]
     },
     "metadata": {},
     "output_type": "display_data"
    }
   ],
   "source": [
    "# Affichage du diagramme des éboulis\n",
    "display_pca_eboulis(pca)"
   ]
  },
  {
   "cell_type": "code",
   "execution_count": 150,
   "id": "6781358f",
   "metadata": {},
   "outputs": [],
   "source": [
    "# Transformation inverse (de Vectors à Arrays)\n",
    "vector_to_array_udf = udf(lambda v: v.toArray().tolist(), ArrayType(FloatType()))"
   ]
  },
  {
   "cell_type": "code",
   "execution_count": 151,
   "id": "0c694510",
   "metadata": {},
   "outputs": [],
   "source": [
    "final_df = pca_matrix.withColumn('features', vector_to_array_udf('features_pca'))"
   ]
  },
  {
   "cell_type": "code",
   "execution_count": 152,
   "id": "7ef06e6c",
   "metadata": {},
   "outputs": [
    {
     "name": "stdout",
     "output_type": "stream",
     "text": [
      "+--------------------+--------------+--------------------+--------------------+--------------------+\n",
      "|                path|         label|         cnn_vectors|        features_pca|            features|\n",
      "+--------------------+--------------+--------------------+--------------------+--------------------+\n",
      "|file:/C:/Users/Ha...|Apple Golden 1|[0.0,0.0479974746...|[4.98089584321073...|[4.980896, 5.4048...|\n",
      "|file:/C:/Users/Ha...|Apple Golden 1|[0.00111107924021...|[5.50980016257361...|[5.5098, 4.626695...|\n",
      "|file:/C:/Users/Ha...|Apple Golden 1|[0.03722351416945...|[6.39840192490234...|[6.3984017, 4.591...|\n",
      "|file:/C:/Users/Ha...|Apple Golden 1|[0.0,0.0,0.684601...|[5.43004893616666...|[5.430049, 4.8585...|\n",
      "|file:/C:/Users/Ha...|Apple Golden 1|[0.0,0.0,0.366576...|[3.98251790524833...|[3.982518, 3.7568...|\n",
      "|file:/C:/Users/Ha...|Apple Golden 1|[0.0,0.0274292603...|[7.58072670909864...|[7.5807266, 2.013...|\n",
      "|file:/C:/Users/Ha...|Apple Golden 1|[0.0,0.0785900354...|[4.70645256629018...|[4.7064524, 6.249...|\n",
      "|file:/C:/Users/Ha...|Apple Golden 1|[0.0,0.0660749003...|[4.77716108318939...|[4.777161, 6.3284...|\n",
      "|file:/C:/Users/Ha...|Apple Golden 1|[0.0,0.0,0.527887...|[5.98091586841501...|[5.980916, 4.6318...|\n",
      "|file:/C:/Users/Ha...|Apple Golden 1|[0.30108457803726...|[6.65606951884041...|[6.6560698, 4.061...|\n",
      "+--------------------+--------------+--------------------+--------------------+--------------------+\n",
      "only showing top 10 rows\n",
      "\n"
     ]
    }
   ],
   "source": [
    "final_df.show(10, True)"
   ]
  },
  {
   "cell_type": "markdown",
   "id": "76643720",
   "metadata": {},
   "source": [
    "#### Enregistrement des données traitées au format \"**parquet**\" "
   ]
  },
  {
   "cell_type": "code",
   "execution_count": 155,
   "id": "861529cb",
   "metadata": {},
   "outputs": [
    {
     "name": "stdout",
     "output_type": "stream",
     "text": [
      "C:\\Users\\Haci.KIZIL\\Desktop\\P8_Kapanoglu/data/Results\n"
     ]
    }
   ],
   "source": [
    "print(PATH_Result)"
   ]
  },
  {
   "cell_type": "code",
   "execution_count": 157,
   "id": "bae67db2",
   "metadata": {},
   "outputs": [],
   "source": [
    "# Enregistrement des données (format parquet)\n",
    "final_df.write.mode('overwrite').parquet(PATH_Result)"
   ]
  },
  {
   "cell_type": "markdown",
   "id": "1eea3e2f",
   "metadata": {},
   "source": [
    "### Chargement des données enregistrées et validation du résultat\n",
    "\n",
    "<u>On charge les données fraichement enregistrées dans un **DataFrame Pandas**</u> :"
   ]
  },
  {
   "cell_type": "code",
   "execution_count": 158,
   "id": "b3a0ca38",
   "metadata": {},
   "outputs": [],
   "source": [
    "df = pd.read_parquet(PATH_Result, engine='pyarrow')"
   ]
  },
  {
   "cell_type": "code",
   "execution_count": 159,
   "id": "3efbd2d0",
   "metadata": {},
   "outputs": [
    {
     "data": {
      "text/html": [
       "<div>\n",
       "<style scoped>\n",
       "    .dataframe tbody tr th:only-of-type {\n",
       "        vertical-align: middle;\n",
       "    }\n",
       "\n",
       "    .dataframe tbody tr th {\n",
       "        vertical-align: top;\n",
       "    }\n",
       "\n",
       "    .dataframe thead th {\n",
       "        text-align: right;\n",
       "    }\n",
       "</style>\n",
       "<table border=\"1\" class=\"dataframe\">\n",
       "  <thead>\n",
       "    <tr style=\"text-align: right;\">\n",
       "      <th></th>\n",
       "      <th>path</th>\n",
       "      <th>label</th>\n",
       "      <th>cnn_vectors</th>\n",
       "      <th>features_pca</th>\n",
       "      <th>features</th>\n",
       "    </tr>\n",
       "  </thead>\n",
       "  <tbody>\n",
       "    <tr>\n",
       "      <th>0</th>\n",
       "      <td>file:/C:/Users/Haci.KIZIL/Desktop/P8_Kapanoglu...</td>\n",
       "      <td>Apple Golden 1</td>\n",
       "      <td>{'type': 1, 'size': None, 'indices': None, 'va...</td>\n",
       "      <td>{'type': 1, 'size': None, 'indices': None, 'va...</td>\n",
       "      <td>[4.980896, 5.4048862, -5.893636, 9.928784, 0.4...</td>\n",
       "    </tr>\n",
       "    <tr>\n",
       "      <th>1</th>\n",
       "      <td>file:/C:/Users/Haci.KIZIL/Desktop/P8_Kapanoglu...</td>\n",
       "      <td>Apple Golden 1</td>\n",
       "      <td>{'type': 1, 'size': None, 'indices': None, 'va...</td>\n",
       "      <td>{'type': 1, 'size': None, 'indices': None, 'va...</td>\n",
       "      <td>[5.5098, 4.6266956, -7.2106485, 10.850506, 0.6...</td>\n",
       "    </tr>\n",
       "    <tr>\n",
       "      <th>2</th>\n",
       "      <td>file:/C:/Users/Haci.KIZIL/Desktop/P8_Kapanoglu...</td>\n",
       "      <td>Apple Golden 1</td>\n",
       "      <td>{'type': 1, 'size': None, 'indices': None, 'va...</td>\n",
       "      <td>{'type': 1, 'size': None, 'indices': None, 'va...</td>\n",
       "      <td>[6.3984017, 4.591377, -6.5240912, 10.619996, -...</td>\n",
       "    </tr>\n",
       "    <tr>\n",
       "      <th>3</th>\n",
       "      <td>file:/C:/Users/Haci.KIZIL/Desktop/P8_Kapanoglu...</td>\n",
       "      <td>Apple Golden 1</td>\n",
       "      <td>{'type': 1, 'size': None, 'indices': None, 'va...</td>\n",
       "      <td>{'type': 1, 'size': None, 'indices': None, 'va...</td>\n",
       "      <td>[5.430049, 4.8585906, 2.2041416, 10.617527, 5....</td>\n",
       "    </tr>\n",
       "    <tr>\n",
       "      <th>4</th>\n",
       "      <td>file:/C:/Users/Haci.KIZIL/Desktop/P8_Kapanoglu...</td>\n",
       "      <td>Apple Golden 1</td>\n",
       "      <td>{'type': 1, 'size': None, 'indices': None, 'va...</td>\n",
       "      <td>{'type': 1, 'size': None, 'indices': None, 'va...</td>\n",
       "      <td>[3.982518, 3.756886, 6.0731015, 5.695782, 5.44...</td>\n",
       "    </tr>\n",
       "  </tbody>\n",
       "</table>\n",
       "</div>"
      ],
      "text/plain": [
       "                                                path           label  \\\n",
       "0  file:/C:/Users/Haci.KIZIL/Desktop/P8_Kapanoglu...  Apple Golden 1   \n",
       "1  file:/C:/Users/Haci.KIZIL/Desktop/P8_Kapanoglu...  Apple Golden 1   \n",
       "2  file:/C:/Users/Haci.KIZIL/Desktop/P8_Kapanoglu...  Apple Golden 1   \n",
       "3  file:/C:/Users/Haci.KIZIL/Desktop/P8_Kapanoglu...  Apple Golden 1   \n",
       "4  file:/C:/Users/Haci.KIZIL/Desktop/P8_Kapanoglu...  Apple Golden 1   \n",
       "\n",
       "                                         cnn_vectors  \\\n",
       "0  {'type': 1, 'size': None, 'indices': None, 'va...   \n",
       "1  {'type': 1, 'size': None, 'indices': None, 'va...   \n",
       "2  {'type': 1, 'size': None, 'indices': None, 'va...   \n",
       "3  {'type': 1, 'size': None, 'indices': None, 'va...   \n",
       "4  {'type': 1, 'size': None, 'indices': None, 'va...   \n",
       "\n",
       "                                        features_pca  \\\n",
       "0  {'type': 1, 'size': None, 'indices': None, 'va...   \n",
       "1  {'type': 1, 'size': None, 'indices': None, 'va...   \n",
       "2  {'type': 1, 'size': None, 'indices': None, 'va...   \n",
       "3  {'type': 1, 'size': None, 'indices': None, 'va...   \n",
       "4  {'type': 1, 'size': None, 'indices': None, 'va...   \n",
       "\n",
       "                                            features  \n",
       "0  [4.980896, 5.4048862, -5.893636, 9.928784, 0.4...  \n",
       "1  [5.5098, 4.6266956, -7.2106485, 10.850506, 0.6...  \n",
       "2  [6.3984017, 4.591377, -6.5240912, 10.619996, -...  \n",
       "3  [5.430049, 4.8585906, 2.2041416, 10.617527, 5....  \n",
       "4  [3.982518, 3.756886, 6.0731015, 5.695782, 5.44...  "
      ]
     },
     "execution_count": 159,
     "metadata": {},
     "output_type": "execute_result"
    }
   ],
   "source": [
    "df.head()"
   ]
  },
  {
   "cell_type": "code",
   "execution_count": 160,
   "id": "3185b1fa",
   "metadata": {},
   "outputs": [
    {
     "data": {
      "text/plain": [
       "(100,)"
      ]
     },
     "execution_count": 160,
     "metadata": {},
     "output_type": "execute_result"
    }
   ],
   "source": [
    "df.loc[0,'features'].shape"
   ]
  },
  {
   "cell_type": "code",
   "execution_count": 161,
   "id": "27bb3c33",
   "metadata": {},
   "outputs": [
    {
     "data": {
      "text/plain": [
       "(1608, 5)"
      ]
     },
     "execution_count": 161,
     "metadata": {},
     "output_type": "execute_result"
    }
   ],
   "source": [
    "df.shape"
   ]
  },
  {
   "cell_type": "code",
   "execution_count": null,
   "id": "22079c00",
   "metadata": {},
   "outputs": [],
   "source": []
  },
  {
   "cell_type": "markdown",
   "id": "2acd9334",
   "metadata": {},
   "source": [
    "### Arrêt de la session Spark"
   ]
  },
  {
   "cell_type": "code",
   "execution_count": 162,
   "id": "c08f5d31",
   "metadata": {},
   "outputs": [],
   "source": [
    "# Arrêt de la session Spark\n",
    "spark.stop()"
   ]
  },
  {
   "cell_type": "code",
   "execution_count": null,
   "id": "b0cfc5c5",
   "metadata": {},
   "outputs": [],
   "source": []
  }
 ],
 "metadata": {
  "kernelspec": {
   "display_name": "Python 3 (ipykernel)",
   "language": "python",
   "name": "python3"
  },
  "language_info": {
   "codemirror_mode": {
    "name": "ipython",
    "version": 3
   },
   "file_extension": ".py",
   "mimetype": "text/x-python",
   "name": "python",
   "nbconvert_exporter": "python",
   "pygments_lexer": "ipython3",
   "version": "3.9.13"
  }
 },
 "nbformat": 4,
 "nbformat_minor": 5
}
